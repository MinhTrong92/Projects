{
 "cells": [
  {
   "cell_type": "code",
   "execution_count": 1,
   "id": "7ef0d02b",
   "metadata": {},
   "outputs": [],
   "source": [
    "from pyspark.sql import SparkSession\n",
    "from pyspark.sql import SQLContext\n",
    "from pyspark.sql.functions import when\n",
    "from pyspark.sql.functions import col\n",
    "from pyspark.sql.types import * \n",
    "from pyspark.sql.functions import lit\n",
    "from pyspark.sql.functions import to_date\n",
    "import pyodbc\n",
    "import pandas as pd\n",
    "import pyspark.sql.functions as sf\n",
    "import matplotlib.pyplot as plt"
   ]
  },
  {
   "cell_type": "code",
   "execution_count": 2,
   "id": "df437b38",
   "metadata": {},
   "outputs": [],
   "source": [
    "spark = SparkSession.builder.config(\"spark.driver.memory\", \"9g\").getOrCreate()"
   ]
  },
  {
   "cell_type": "markdown",
   "id": "5b3fe0c2",
   "metadata": {},
   "source": [
    "## Total User by Date"
   ]
  },
  {
   "cell_type": "code",
   "execution_count": 3,
   "id": "05a9bfb4",
   "metadata": {},
   "outputs": [],
   "source": [
    "def calculate_data_daily_TotalUser(path,file):\n",
    "    df = spark.read.json(path+file)\n",
    "    df = df.select( '_source.Contract','_source.AppName', '_source.TotalDuration')\n",
    "    df = df.withColumn(\"Type\",\n",
    "           when((col(\"AppName\") == 'CHANNEL') | (col(\"AppName\") =='DSHD')| (col(\"AppName\") =='KPLUS')| (col(\"AppName\") =='KPlus'), \"Truyền Hình\")\n",
    "          .when((col(\"AppName\") == 'VOD') | (col(\"AppName\") =='FIMS_RES')| (col(\"AppName\") =='BHD_RES')| \n",
    "                 (col(\"AppName\") =='VOD_RES')| (col(\"AppName\") =='FIMS')| (col(\"AppName\") =='BHD')| (col(\"AppName\") =='DANET'), \"Phim Truyện\")\n",
    "          .when((col(\"AppName\") == 'RELAX'), \"Giải Trí\")\n",
    "          .when((col(\"AppName\") == 'CHILD'), \"Thiếu Nhi\")\n",
    "          .when((col(\"AppName\") == 'SPORT'), \"Thể Thao\")\n",
    "          .otherwise(\"Error\"))\n",
    "    calculation = df.select('Contract','Type','TotalDuration')\n",
    "    return calculation.groupBy(\"Type\",\"Contract\").count().groupBy('Type').count()"
   ]
  },
  {
   "cell_type": "code",
   "execution_count": 4,
   "id": "be3880d6",
   "metadata": {},
   "outputs": [],
   "source": [
    "def TotalUser(path, from_date, to_date):\n",
    "    \n",
    "    start = int(from_date[-2:])\n",
    "    end = int(to_date[-2:])\n",
    "    \n",
    "    #create empty DataFrame\n",
    "    schema = StructType([\n",
    "        StructField('Type', StringType(), True),\n",
    "        StructField('TotalUser', LongType(), True),\n",
    "        StructField('Date', DateType(), True)\n",
    "        ])\n",
    "    data = spark.createDataFrame(spark.sparkContext.emptyRDD(),schema)\n",
    "    \n",
    "    #get data\n",
    "    for i in range(start,end+1):\n",
    "        if i<10:\n",
    "            file = \"\"\"2022040{}.json\"\"\".format(i)\n",
    "            str_date = \"2022-04-0{}\"\n",
    "        else:\n",
    "            file = \"\"\"202204{}.json\"\"\".format(i)\n",
    "            str_date = \"2022-04-{}\"\n",
    "        data_date = calculate_data_daily_TotalUser(path,file)\n",
    "        data_date = data_date.withColumn(\"Date\",lit(str_date.format(i)))\n",
    "        data_date = data_date.withColumnRenamed(\"count\",\"TotalUser\")\n",
    "        data = data.union(data_date)\n",
    "        #data.cache()\n",
    "    return data"
   ]
  },
  {
   "cell_type": "code",
   "execution_count": 27,
   "id": "34c7bf49",
   "metadata": {},
   "outputs": [],
   "source": [
    "path = \"F:\\\\Study\\\\X-DATA\\\\Big Data\\\\DataSet\\\\\"\n",
    "from_date = \"20220401\"\n",
    "to_date = \"20220430\""
   ]
  },
  {
   "cell_type": "code",
   "execution_count": 8,
   "id": "d97b9fd5",
   "metadata": {},
   "outputs": [],
   "source": [
    "#Total User by date\n",
    "data_TotalUser = TotalUser(path, from_date,to_date)"
   ]
  },
  {
   "cell_type": "code",
   "execution_count": 9,
   "id": "09543f22",
   "metadata": {},
   "outputs": [
    {
     "data": {
      "text/plain": [
       "DataFrame[Type: string, TotalUser: bigint, Date: string]"
      ]
     },
     "execution_count": 9,
     "metadata": {},
     "output_type": "execute_result"
    }
   ],
   "source": [
    "data_TotalUser.cache()"
   ]
  },
  {
   "cell_type": "code",
   "execution_count": 10,
   "id": "e025fc8d",
   "metadata": {},
   "outputs": [
    {
     "name": "stdout",
     "output_type": "stream",
     "text": [
      "+-----------+---------+----------+\n",
      "|       Type|TotalUser|      Date|\n",
      "+-----------+---------+----------+\n",
      "|   Thể Thao|     2292|2022-04-01|\n",
      "|Truyền Hình|  1355367|2022-04-01|\n",
      "|  Thiếu Nhi|    33056|2022-04-01|\n",
      "|   Giải Trí|     6394|2022-04-01|\n",
      "|Phim Truyện|    86312|2022-04-01|\n",
      "|   Thể Thao|     2261|2022-04-02|\n",
      "|Truyền Hình|  1328138|2022-04-02|\n",
      "|  Thiếu Nhi|    36406|2022-04-02|\n",
      "|   Giải Trí|    14183|2022-04-02|\n",
      "|Phim Truyện|    89110|2022-04-02|\n",
      "|   Thể Thao|     2601|2022-04-03|\n",
      "|Truyền Hình|  1314947|2022-04-03|\n",
      "|  Thiếu Nhi|    35671|2022-04-03|\n",
      "|   Giải Trí|     6192|2022-04-03|\n",
      "|Phim Truyện|    88953|2022-04-03|\n",
      "|   Thể Thao|     2386|2022-04-04|\n",
      "|Truyền Hình|  1330592|2022-04-04|\n",
      "|  Thiếu Nhi|    31857|2022-04-04|\n",
      "|   Giải Trí|     6702|2022-04-04|\n",
      "|Phim Truyện|    77408|2022-04-04|\n",
      "+-----------+---------+----------+\n",
      "only showing top 20 rows\n",
      "\n"
     ]
    }
   ],
   "source": [
    "data_TotalUser.show()"
   ]
  },
  {
   "cell_type": "code",
   "execution_count": 11,
   "id": "d3f3d2bf",
   "metadata": {},
   "outputs": [
    {
     "name": "stdout",
     "output_type": "stream",
     "text": [
      "root\n",
      " |-- Type: string (nullable = true)\n",
      " |-- TotalUser: long (nullable = true)\n",
      " |-- Date: string (nullable = true)\n",
      "\n"
     ]
    }
   ],
   "source": [
    "data_TotalUser.printSchema()"
   ]
  },
  {
   "cell_type": "code",
   "execution_count": 12,
   "id": "90ee92bf",
   "metadata": {},
   "outputs": [],
   "source": [
    "#Convert column Date to datetype\n",
    "\n",
    "from pyspark.sql.functions import to_date\n",
    "data_TotalUser = data_TotalUser.withColumn('Date',to_date(data_TotalUser.Date, 'yyyy-MM-dd'))"
   ]
  },
  {
   "cell_type": "code",
   "execution_count": 13,
   "id": "7b121f84",
   "metadata": {},
   "outputs": [
    {
     "name": "stdout",
     "output_type": "stream",
     "text": [
      "root\n",
      " |-- Type: string (nullable = true)\n",
      " |-- TotalUser: long (nullable = true)\n",
      " |-- Date: date (nullable = true)\n",
      "\n"
     ]
    }
   ],
   "source": [
    "data_TotalUser.printSchema()"
   ]
  },
  {
   "cell_type": "code",
   "execution_count": 14,
   "id": "4e0ded3f",
   "metadata": {},
   "outputs": [],
   "source": [
    "#Pivot TotalUsser table\n",
    "\n",
    "data_TotalUser_pivot = data_TotalUser.groupBy(\"Date\").pivot(\"Type\").sum(\"TotalUser\")"
   ]
  },
  {
   "cell_type": "code",
   "execution_count": 15,
   "id": "b5fc2515",
   "metadata": {},
   "outputs": [],
   "source": [
    "data_TotalUser_pivot = data_TotalUser_pivot.cache()"
   ]
  },
  {
   "cell_type": "code",
   "execution_count": 16,
   "id": "70ab1ce2",
   "metadata": {},
   "outputs": [
    {
     "name": "stdout",
     "output_type": "stream",
     "text": [
      "root\n",
      " |-- Date: date (nullable = true)\n",
      " |-- Error: long (nullable = true)\n",
      " |-- Giải Trí: long (nullable = true)\n",
      " |-- Phim Truyện: long (nullable = true)\n",
      " |-- Thiếu Nhi: long (nullable = true)\n",
      " |-- Thể Thao: long (nullable = true)\n",
      " |-- Truyền Hình: long (nullable = true)\n",
      "\n"
     ]
    }
   ],
   "source": [
    "data_TotalUser_pivot.printSchema()"
   ]
  },
  {
   "cell_type": "code",
   "execution_count": 17,
   "id": "efc14469",
   "metadata": {},
   "outputs": [],
   "source": [
    "data_TotalUser_pivot = data_TotalUser_pivot.sort(\"Date\")"
   ]
  },
  {
   "cell_type": "code",
   "execution_count": 18,
   "id": "b1db101e",
   "metadata": {},
   "outputs": [],
   "source": [
    "data_TotalUser_pivot = data_TotalUser_pivot.drop(\"Error\")"
   ]
  },
  {
   "cell_type": "code",
   "execution_count": 19,
   "id": "5ad6238d",
   "metadata": {},
   "outputs": [
    {
     "name": "stdout",
     "output_type": "stream",
     "text": [
      "+----------+--------+-----------+---------+--------+-----------+\n",
      "|      Date|Giải Trí|Phim Truyện|Thiếu Nhi|Thể Thao|Truyền Hình|\n",
      "+----------+--------+-----------+---------+--------+-----------+\n",
      "|2022-04-01|    6394|      86312|    33056|    2292|    1355367|\n",
      "|2022-04-02|   14183|      89110|    36406|    2261|    1328138|\n",
      "|2022-04-03|    6192|      88953|    35671|    2601|    1314947|\n",
      "|2022-04-04|    6702|      77408|    31857|    2386|    1330592|\n",
      "|2022-04-05|    5935|      81239|    31864|    2202|    1320852|\n",
      "|2022-04-06|    5466|      81478|    31557|    4219|    1321137|\n",
      "|2022-04-07|    5325|      82374|    31254|    4907|    1319626|\n",
      "|2022-04-08|    5323|      83577|    32409|    3017|    1316502|\n",
      "|2022-04-09|   13645|      88530|    36744|    3136|    1302486|\n",
      "|2022-04-10|    6130|      88525|    34549|    2898|    1275622|\n",
      "|2022-04-11|    6339|      90009|    36080|    3171|    1328889|\n",
      "|2022-04-12|    5348|      78361|    30711|    1847|    1314168|\n",
      "|2022-04-13|    5321|      78321|    30190|    5606|    1329482|\n",
      "|2022-04-14|    5223|      77863|    30217|    5590|    1319282|\n",
      "|2022-04-15|    5782|      78670|    32218|    3396|    1327478|\n",
      "|2022-04-16|    7110|      87168|    39621|    2692|    1356798|\n",
      "|2022-04-17|    7069|      88125|    38580|    5291|    1328712|\n",
      "|2022-04-18|    5726|      75073|    30756|    3761|    1316145|\n",
      "|2022-04-19|    5320|      75249|    30034|    2921|    1336448|\n",
      "|2022-04-20|    5453|      75858|    29566|    2964|    1320499|\n",
      "|2022-04-21|    5273|      75567|    29868|    2411|    1291909|\n",
      "|2022-04-22|    5706|      77323|    31598|    2643|    1338461|\n",
      "|2022-04-23|    6543|      85237|    38389|    2422|    1322042|\n",
      "|2022-04-24|   12624|      87236|    37164|    2545|    1319236|\n",
      "|2022-04-25|    5848|      77517|    29948|    2359|    1322348|\n",
      "|2022-04-26|    5655|      78666|    29891|    2793|    1312215|\n",
      "|2022-04-27|   12996|      79061|    30110|    4560|    1322226|\n",
      "|2022-04-28|    5467|      79435|    29801|    4551|    1331809|\n",
      "|2022-04-29|    6207|      83077|    31844|    3882|    1326531|\n",
      "|2022-04-30|   11554|      86383|    35497|    2141|    1277272|\n",
      "+----------+--------+-----------+---------+--------+-----------+\n",
      "\n"
     ]
    }
   ],
   "source": [
    "data_TotalUser_pivot.show(30)"
   ]
  },
  {
   "cell_type": "code",
   "execution_count": 20,
   "id": "75ab9bca",
   "metadata": {},
   "outputs": [],
   "source": [
    "#export data\n",
    "\n",
    "#data_TotalUser.repartition(1).write.csv('F:\\\\Study\\\\X-DATA\\\\Big Data\\\\Lession 4\\\\TotalUser',header=True)"
   ]
  },
  {
   "cell_type": "code",
   "execution_count": 21,
   "id": "f9d6cb19",
   "metadata": {},
   "outputs": [],
   "source": [
    "df_TotalUser=data_TotalUser_pivot.toPandas()"
   ]
  },
  {
   "cell_type": "code",
   "execution_count": 22,
   "id": "1b052389",
   "metadata": {},
   "outputs": [
    {
     "data": {
      "text/plain": [
       "[<matplotlib.lines.Line2D at 0x1f1e00ed340>]"
      ]
     },
     "execution_count": 22,
     "metadata": {},
     "output_type": "execute_result"
    },
    {
     "data": {
      "image/png": "[encoded data removed]",
      "text/plain": [
       "<Figure size 1080x360 with 1 Axes>"
      ]
     },
     "metadata": {
      "needs_background": "light"
     },
     "output_type": "display_data"
    }
   ],
   "source": [
    "plt.figure(figsize=(15,5))\n",
    "plt.plot(df_TotalUser.Date, df_TotalUser['Thiếu Nhi'])"
   ]
  },
  {
   "cell_type": "markdown",
   "id": "25eb0e78",
   "metadata": {},
   "source": [
    "**Nhận xét:** Số lượng User xem các chương trình *Thiếu Nhi* giao động theo chu kỳ, tăng cao vào các ngày nghỉ cuối tuần và hạ thấp vào các ngày trong tuần"
   ]
  },
  {
   "cell_type": "markdown",
   "id": "714389fe",
   "metadata": {},
   "source": [
    "## Total Duration by Date"
   ]
  },
  {
   "cell_type": "code",
   "execution_count": 25,
   "id": "10c0725d",
   "metadata": {},
   "outputs": [],
   "source": [
    "def calculate_data_daily_TotalDuration(path,file):\n",
    "    df = spark.read.json(path+file)\n",
    "    df = df.select( '_source.Contract','_source.AppName', '_source.TotalDuration')\n",
    "    #stateDic={'CHANNEL':'Truyền Hình','DSHD':'Truyền Hình', 'KPLUS':'Truyền Hình','VOD' : 'Phim truyen', 'FIMS': 'Phim truyen','SPORT': 'The thao', 'RELAX': 'Giai tri','CHILD': 'Thieu nhi'}\n",
    "    #df=df.rdd.map(lambda x: (x.Contract,stateDic[x.AppName], x.TotalDuration)).toDF([\"Contract\",\"AppName\",\"TotalDuration\" ])\n",
    "    df = df.withColumn(\"Type\",\n",
    "           when((col(\"AppName\") == 'CHANNEL') | (col(\"AppName\") =='DSHD')| (col(\"AppName\") =='KPLUS')| (col(\"AppName\") =='KPlus'), \"Truyền Hình\")\n",
    "          .when((col(\"AppName\") == 'VOD') | (col(\"AppName\") =='FIMS_RES')| (col(\"AppName\") =='BHD_RES')| \n",
    "                 (col(\"AppName\") =='VOD_RES')| (col(\"AppName\") =='FIMS')| (col(\"AppName\") =='BHD')| (col(\"AppName\") =='DANET'), \"Phim Truyện\")\n",
    "          .when((col(\"AppName\") == 'RELAX'), \"Giải Trí\")\n",
    "          .when((col(\"AppName\") == 'CHILD'), \"Thiếu Nhi\")\n",
    "          .when((col(\"AppName\") == 'SPORT'), \"Thể Thao\")\n",
    "          .otherwise(\"Error\"))\n",
    "    calculation = df.select('Contract','Type','TotalDuration')\n",
    "    calculation = df.groupBy('Type').sum(\"TotalDuration\")\n",
    "    calculation = calculation.withColumnRenamed('sum(TotalDuration)','TotalDuration')\n",
    "    return calculation"
   ]
  },
  {
   "cell_type": "code",
   "execution_count": 26,
   "id": "4185c01a",
   "metadata": {},
   "outputs": [],
   "source": [
    "def TotalDuration(path, from_date, to_date):\n",
    "    \n",
    "    start = int(from_date[-2:])\n",
    "    end = int(to_date[-2:])\n",
    "    \n",
    "    #create empty DataFrame\n",
    "    schema = StructType([\n",
    "        StructField('Type', StringType(), True),\n",
    "        StructField('TotalDuration', LongType(), True),\n",
    "        StructField('Date', StringType(), True)\n",
    "        ])\n",
    "    data = spark.createDataFrame(spark.sparkContext.emptyRDD(),schema)\n",
    "    \n",
    "    #get data\n",
    "    for i in range(start,end+1):\n",
    "        if i<10:\n",
    "            file = \"\"\"2022040{}.json\"\"\".format(i)\n",
    "            str_date = \"2022-04-0{}\"\n",
    "        else:\n",
    "            file = \"\"\"202204{}.json\"\"\".format(i)\n",
    "            str_date = \"2022-04-{}\"\n",
    "        data_date = calculate_data_daily_TotalDuration(path,file)\n",
    "        data_date = data_date.withColumn(\"Date\",lit(str_date.format(i)))\n",
    "        #data_date = data_date.withColumnRenamed(\"count\",\"TotalUser\")\n",
    "        data = data.union(data_date)\n",
    "        #data.cache()\n",
    "    return data"
   ]
  },
  {
   "cell_type": "code",
   "execution_count": null,
   "id": "4626b61d",
   "metadata": {},
   "outputs": [],
   "source": [
    "path = \"F:\\\\Study\\\\X-DATA\\\\Big Data\\\\DataSet\\\\\"\n",
    "from_date = \"20220401\"\n",
    "to_date = \"20220430\""
   ]
  },
  {
   "cell_type": "code",
   "execution_count": 28,
   "id": "335c8f04",
   "metadata": {},
   "outputs": [],
   "source": [
    "#Total Duration by date\n",
    "data_TotalDuration = TotalDuration(path, from_date,to_date)"
   ]
  },
  {
   "cell_type": "code",
   "execution_count": 29,
   "id": "fe0b61e7",
   "metadata": {},
   "outputs": [
    {
     "data": {
      "text/plain": [
       "DataFrame[Type: string, TotalDuration: bigint, Date: string]"
      ]
     },
     "execution_count": 29,
     "metadata": {},
     "output_type": "execute_result"
    }
   ],
   "source": [
    "data_TotalDuration.cache()"
   ]
  },
  {
   "cell_type": "code",
   "execution_count": 30,
   "id": "1963175a",
   "metadata": {},
   "outputs": [
    {
     "name": "stdout",
     "output_type": "stream",
     "text": [
      "+-----------+-------------+----------+\n",
      "|       Type|TotalDuration|      Date|\n",
      "+-----------+-------------+----------+\n",
      "|   Thể Thao|      1166238|2022-04-01|\n",
      "|Truyền Hình|  25210339682|2022-04-01|\n",
      "|  Thiếu Nhi|    178570178|2022-04-01|\n",
      "|   Giải Trí|     20907906|2022-04-01|\n",
      "|Phim Truyện|    627150472|2022-04-01|\n",
      "|   Thể Thao|      2304036|2022-04-02|\n",
      "|Truyền Hình|  23447491078|2022-04-02|\n",
      "|  Thiếu Nhi|    217096473|2022-04-02|\n",
      "|   Giải Trí|     23660631|2022-04-02|\n",
      "|Phim Truyện|    653793394|2022-04-02|\n",
      "|   Thể Thao|      2089684|2022-04-03|\n",
      "|Truyền Hình|  23448799428|2022-04-03|\n",
      "|  Thiếu Nhi|    213572505|2022-04-03|\n",
      "|   Giải Trí|     23482153|2022-04-03|\n",
      "|Phim Truyện|    669111655|2022-04-03|\n",
      "|   Thể Thao|      1270644|2022-04-04|\n",
      "|Truyền Hình|  25023515316|2022-04-04|\n",
      "|  Thiếu Nhi|    191329814|2022-04-04|\n",
      "|   Giải Trí|     20926872|2022-04-04|\n",
      "|Phim Truyện|    543324789|2022-04-04|\n",
      "+-----------+-------------+----------+\n",
      "only showing top 20 rows\n",
      "\n"
     ]
    }
   ],
   "source": [
    "data_TotalDuration.show()"
   ]
  },
  {
   "cell_type": "code",
   "execution_count": 31,
   "id": "2be6e985",
   "metadata": {},
   "outputs": [
    {
     "name": "stdout",
     "output_type": "stream",
     "text": [
      "root\n",
      " |-- Type: string (nullable = true)\n",
      " |-- TotalDuration: long (nullable = true)\n",
      " |-- Date: string (nullable = true)\n",
      "\n"
     ]
    }
   ],
   "source": [
    "data_TotalDuration.printSchema()"
   ]
  },
  {
   "cell_type": "code",
   "execution_count": 33,
   "id": "56d1e5eb",
   "metadata": {},
   "outputs": [],
   "source": [
    "from pyspark.sql.functions import to_date\n",
    "\n",
    "data_TotalDuration = data_TotalDuration.withColumn('Date',to_date(data_TotalDuration.Date, 'yyyy-MM-dd'))"
   ]
  },
  {
   "cell_type": "code",
   "execution_count": 34,
   "id": "f267c71b",
   "metadata": {},
   "outputs": [
    {
     "name": "stdout",
     "output_type": "stream",
     "text": [
      "root\n",
      " |-- Type: string (nullable = true)\n",
      " |-- TotalDuration: long (nullable = true)\n",
      " |-- Date: date (nullable = true)\n",
      "\n"
     ]
    }
   ],
   "source": [
    "data_TotalDuration.printSchema()"
   ]
  },
  {
   "cell_type": "code",
   "execution_count": 35,
   "id": "cabc8082",
   "metadata": {},
   "outputs": [],
   "source": [
    "data_TotalDuration_pivot = data_TotalDuration.groupBy(\"Date\").pivot(\"Type\").sum(\"TotalDuration\")"
   ]
  },
  {
   "cell_type": "code",
   "execution_count": 36,
   "id": "7309868b",
   "metadata": {},
   "outputs": [],
   "source": [
    "data_TotalDuration_pivot = data_TotalDuration_pivot.cache()"
   ]
  },
  {
   "cell_type": "code",
   "execution_count": 37,
   "id": "8aaab8df",
   "metadata": {},
   "outputs": [
    {
     "name": "stdout",
     "output_type": "stream",
     "text": [
      "root\n",
      " |-- Date: date (nullable = true)\n",
      " |-- Error: long (nullable = true)\n",
      " |-- Giải Trí: long (nullable = true)\n",
      " |-- Phim Truyện: long (nullable = true)\n",
      " |-- Thiếu Nhi: long (nullable = true)\n",
      " |-- Thể Thao: long (nullable = true)\n",
      " |-- Truyền Hình: long (nullable = true)\n",
      "\n"
     ]
    }
   ],
   "source": [
    "data_TotalDuration_pivot.printSchema()"
   ]
  },
  {
   "cell_type": "code",
   "execution_count": 38,
   "id": "b5e479bf",
   "metadata": {},
   "outputs": [],
   "source": [
    "data_TotalDuration_pivot = data_TotalDuration_pivot.sort(\"Date\")"
   ]
  },
  {
   "cell_type": "code",
   "execution_count": 39,
   "id": "36b15d98",
   "metadata": {},
   "outputs": [],
   "source": [
    "data_TotalDuration_pivot = data_TotalDuration_pivot.drop(\"Error\")"
   ]
  },
  {
   "cell_type": "code",
   "execution_count": 40,
   "id": "749a99c7",
   "metadata": {},
   "outputs": [
    {
     "name": "stdout",
     "output_type": "stream",
     "text": [
      "+----------+--------+-----------+---------+--------+-----------+\n",
      "|      Date|Giải Trí|Phim Truyện|Thiếu Nhi|Thể Thao|Truyền Hình|\n",
      "+----------+--------+-----------+---------+--------+-----------+\n",
      "|2022-04-01|20907906|  627150472|178570178| 1166238|25210339682|\n",
      "|2022-04-02|23660631|  653793394|217096473| 2304036|23447491078|\n",
      "|2022-04-03|23482153|  669111655|213572505| 2089684|23448799428|\n",
      "|2022-04-04|20926872|  543324789|191329814| 1270644|25023515316|\n",
      "|2022-04-05|19818708|  554389072|186712205| 1203614|24446474511|\n",
      "|2022-04-06|18373133| -250954961|183110034| 6502695|24715443879|\n",
      "|2022-04-07|17691561| -337304856|177306488| 8427514|24649587137|\n",
      "|2022-04-08|17467392|  563753952|183150225| 4483760|24494399275|\n",
      "|2022-04-09|22195899|  602534817|213931093| 2750505|23974575908|\n",
      "|2022-04-10|23014479|  630958656|202776815| 1815888|23801151939|\n",
      "|2022-04-11|22213260|  642495265|214704365| 2547798|25024377668|\n",
      "|2022-04-12|18672117|  529461237|179024680| 1535580|24559436680|\n",
      "|2022-04-13|18365304|  520728634|169091476|12693495|24323390206|\n",
      "|2022-04-14|18000733|  516066598|170540809|12792672|24440961672|\n",
      "|2022-04-15|18930414|  519691899|173916094| 5514134|24460199410|\n",
      "|2022-04-16|20614789|  593950476|225666604| 2577913|25243578181|\n",
      "|2022-04-17|23144659|  631493752|220218708| 7825915|24685163352|\n",
      "|2022-04-18|20526013|  506601011|171592251| 5775137|24883583746|\n",
      "|2022-04-19|18205045|  220352206|165967660| 1806384|25689934464|\n",
      "|2022-04-20|17707638|  497658055|164635900| 2193099|24530874556|\n",
      "|2022-04-21|15659167|  437705805|148589639| 1672221|21751514386|\n",
      "|2022-04-22|18160444|  478173280|170960164| 1617107|25270810704|\n",
      "|2022-04-23|18905518|  522268614|216236896| 2325388|24150794226|\n",
      "|2022-04-24|20230239|  551581566|203446892| 2640982|24203603121|\n",
      "|2022-04-25|16725266|  402970624|151319712| 1444107|24934009990|\n",
      "|2022-04-26|15659279|  406188924|137387504| 1667122|24567459837|\n",
      "|2022-04-27|16509577|  387761018|130082567| 4809461|24773317396|\n",
      "|2022-04-28|13292241|  371340655|123923965| 4736258|25054249692|\n",
      "|2022-04-29|13612584|  390001209|127284218| 2332013|24490872705|\n",
      "|2022-04-30|16848576|   20072753|150504593| 1194774|23602232896|\n",
      "+----------+--------+-----------+---------+--------+-----------+\n",
      "\n"
     ]
    }
   ],
   "source": [
    "data_TotalDuration_pivot.show(30)"
   ]
  },
  {
   "cell_type": "code",
   "execution_count": null,
   "id": "f3063520",
   "metadata": {},
   "outputs": [],
   "source": [
    "#export data\n",
    "\n",
    "#data_TotalDuration.repartition(1).write.csv('F:\\\\Study\\\\X-DATA\\\\Big Data\\\\Lession 4\\\\TotalUser',header=True)"
   ]
  },
  {
   "cell_type": "code",
   "execution_count": 41,
   "id": "1297e814",
   "metadata": {},
   "outputs": [],
   "source": [
    "df_TotalDuration=data_TotalDuration_pivot.toPandas()"
   ]
  },
  {
   "cell_type": "code",
   "execution_count": 42,
   "id": "6a76e096",
   "metadata": {},
   "outputs": [
    {
     "data": {
      "text/plain": [
       "[<matplotlib.lines.Line2D at 0x1f1e0032910>]"
      ]
     },
     "execution_count": 42,
     "metadata": {},
     "output_type": "execute_result"
    },
    {
     "data": {
      "image/png": "[encoded data removed]",
      "text/plain": [
       "<Figure size 1080x360 with 1 Axes>"
      ]
     },
     "metadata": {
      "needs_background": "light"
     },
     "output_type": "display_data"
    }
   ],
   "source": [
    "plt.figure(figsize=(15,5))\n",
    "plt.plot(df_TotalDuration.Date, df_TotalDuration['Thiếu Nhi'])"
   ]
  },
  {
   "cell_type": "markdown",
   "id": "d8fe43f9",
   "metadata": {},
   "source": [
    "Thời lượng xem các chương trình *Thiếu Nhi* tăng vào cuối tuần và giảm vào các ngày trong tuần"
   ]
  },
  {
   "cell_type": "markdown",
   "id": "4c93bdc6",
   "metadata": {},
   "source": [
    "## Join Data"
   ]
  },
  {
   "cell_type": "code",
   "execution_count": 43,
   "id": "e9fce19c",
   "metadata": {},
   "outputs": [],
   "source": [
    "data_result = data_TotalDuration.join(data_TotalUser,['Type','Date'],'inner')"
   ]
  },
  {
   "cell_type": "code",
   "execution_count": 44,
   "id": "e963dbdc",
   "metadata": {},
   "outputs": [],
   "source": [
    "data_result = data_result.cache()"
   ]
  },
  {
   "cell_type": "code",
   "execution_count": 45,
   "id": "2a2b6016",
   "metadata": {},
   "outputs": [
    {
     "name": "stdout",
     "output_type": "stream",
     "text": [
      "+-----------+----------+-------------+---------+\n",
      "|       Type|      Date|TotalDuration|TotalUser|\n",
      "+-----------+----------+-------------+---------+\n",
      "|   Thể Thao|2022-04-01|      1166238|     2292|\n",
      "|Truyền Hình|2022-04-01|  25210339682|  1355367|\n",
      "|  Thiếu Nhi|2022-04-01|    178570178|    33056|\n",
      "|   Giải Trí|2022-04-01|     20907906|     6394|\n",
      "|Phim Truyện|2022-04-01|    627150472|    86312|\n",
      "|   Thể Thao|2022-04-02|      2304036|     2261|\n",
      "|Truyền Hình|2022-04-02|  23447491078|  1328138|\n",
      "|  Thiếu Nhi|2022-04-02|    217096473|    36406|\n",
      "|   Giải Trí|2022-04-02|     23660631|    14183|\n",
      "|Phim Truyện|2022-04-02|    653793394|    89110|\n",
      "|   Thể Thao|2022-04-03|      2089684|     2601|\n",
      "|Truyền Hình|2022-04-03|  23448799428|  1314947|\n",
      "|  Thiếu Nhi|2022-04-03|    213572505|    35671|\n",
      "|   Giải Trí|2022-04-03|     23482153|     6192|\n",
      "|Phim Truyện|2022-04-03|    669111655|    88953|\n",
      "|   Thể Thao|2022-04-04|      1270644|     2386|\n",
      "|Truyền Hình|2022-04-04|  25023515316|  1330592|\n",
      "|  Thiếu Nhi|2022-04-04|    191329814|    31857|\n",
      "|   Giải Trí|2022-04-04|     20926872|     6702|\n",
      "|Phim Truyện|2022-04-04|    543324789|    77408|\n",
      "+-----------+----------+-------------+---------+\n",
      "only showing top 20 rows\n",
      "\n"
     ]
    }
   ],
   "source": [
    "data_result.show()"
   ]
  },
  {
   "cell_type": "code",
   "execution_count": null,
   "id": "529aa757",
   "metadata": {},
   "outputs": [],
   "source": [
    "#data_result.repartition(1).write.csv('F:\\\\Study\\\\X-DATA\\\\Big Data\\\\Lession 4\\\\TotalUser',header=True)"
   ]
  },
  {
   "cell_type": "code",
   "execution_count": 46,
   "id": "32a5c6cb",
   "metadata": {},
   "outputs": [
    {
     "name": "stdout",
     "output_type": "stream",
     "text": [
      "root\n",
      " |-- Type: string (nullable = true)\n",
      " |-- Date: date (nullable = true)\n",
      " |-- TotalDuration: long (nullable = true)\n",
      " |-- TotalUser: long (nullable = true)\n",
      "\n"
     ]
    }
   ],
   "source": [
    "data_result.printSchema()"
   ]
  },
  {
   "cell_type": "code",
   "execution_count": 47,
   "id": "4f4e2970",
   "metadata": {},
   "outputs": [
    {
     "data": {
      "text/plain": [
       "151"
      ]
     },
     "execution_count": 47,
     "metadata": {},
     "output_type": "execute_result"
    }
   ],
   "source": [
    "data_result.count()"
   ]
  },
  {
   "cell_type": "code",
   "execution_count": null,
   "id": "96489cdb",
   "metadata": {},
   "outputs": [],
   "source": []
  },
  {
   "cell_type": "code",
   "execution_count": null,
   "id": "e396d5d7",
   "metadata": {},
   "outputs": [],
   "source": []
  }
 ],
 "metadata": {
  "kernelspec": {
   "display_name": "Python 3 (ipykernel)",
   "language": "python",
   "name": "python3"
  },
  "language_info": {
   "codemirror_mode": {
    "name": "ipython",
    "version": 3
   },
   "file_extension": ".py",
   "mimetype": "text/x-python",
   "name": "python",
   "nbconvert_exporter": "python",
   "pygments_lexer": "ipython3",
   "version": "3.9.12"
  }
 },
 "nbformat": 4,
 "nbformat_minor": 5
}
