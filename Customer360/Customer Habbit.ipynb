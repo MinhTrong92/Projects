{
 "cells": [
  {
   "cell_type": "code",
   "execution_count": 1,
   "id": "302716f1",
   "metadata": {},
   "outputs": [],
   "source": [
    "from pyspark.sql import SparkSession\n",
    "from pyspark.sql import SQLContext\n",
    "from pyspark.sql.functions import when\n",
    "from pyspark.sql.functions import col\n",
    "from pyspark.sql.types import * \n",
    "from pyspark.sql.functions import lit\n",
    "import pyodbc\n",
    "import pandas as pd\n",
    "import pyspark.sql.functions as sf\n"
   ]
  },
  {
   "cell_type": "code",
   "execution_count": 2,
   "id": "a6151f74",
   "metadata": {},
   "outputs": [],
   "source": [
    "spark = SparkSession.builder.config(\"spark.driver.memory\", \"9g\").getOrCreate()"
   ]
  },
  {
   "cell_type": "code",
   "execution_count": 3,
   "id": "9d02ab42",
   "metadata": {},
   "outputs": [],
   "source": [
    "def calculate_data_daily(path, from_date, to_date):\n",
    "    start = int(from_date[-2:])\n",
    "    end = int(to_date[-2:])\n",
    "    \n",
    "    #create empty DataFrame\n",
    "    schema = StructType([\n",
    "        StructField('Contract', StringType(), True),\n",
    "        StructField('AppName', StringType(), True),\n",
    "        StructField('TotalDuration', LongType(), True)\n",
    "        ])\n",
    "    data = spark.createDataFrame(spark.sparkContext.emptyRDD(),schema)\n",
    "    \n",
    "    #get data\n",
    "    for i in range(start,end+1):\n",
    "        if i<10:\n",
    "            file = \"\"\"2022040{}.json\"\"\".format(i)\n",
    "            str_date = \"2022-04-0{}\"\n",
    "        else:\n",
    "            file = \"\"\"202204{}.json\"\"\".format(i)\n",
    "            str_date = \"2022-04-{}\"\n",
    "        data_date = spark.read.json(path+file)\n",
    "        data_date = data_date.select( '_source.Contract','_source.AppName', '_source.TotalDuration')\n",
    "        data = data.union(data_date)\n",
    "        #data.cache()\n",
    "    return data"
   ]
  },
  {
   "cell_type": "code",
   "execution_count": 4,
   "id": "15fece5f",
   "metadata": {},
   "outputs": [],
   "source": [
    "path = \"F:\\\\Study\\\\X-DATA\\\\Big Data\\\\DataSet\\\\\"\n",
    "from_date = \"20220401\"\n",
    "to_date = \"20220430\""
   ]
  },
  {
   "cell_type": "code",
   "execution_count": 5,
   "id": "cb5c8152",
   "metadata": {},
   "outputs": [],
   "source": [
    "data = calculate_data_daily(path, from_date,to_date)"
   ]
  },
  {
   "cell_type": "code",
   "execution_count": 6,
   "id": "379212b6",
   "metadata": {},
   "outputs": [],
   "source": [
    "data = data.cache()"
   ]
  },
  {
   "cell_type": "code",
   "execution_count": 7,
   "id": "58a23463",
   "metadata": {},
   "outputs": [
    {
     "data": {
      "text/plain": [
       "48457499"
      ]
     },
     "execution_count": 7,
     "metadata": {},
     "output_type": "execute_result"
    }
   ],
   "source": [
    "data.count()"
   ]
  },
  {
   "cell_type": "code",
   "execution_count": 8,
   "id": "161b7702",
   "metadata": {},
   "outputs": [
    {
     "name": "stdout",
     "output_type": "stream",
     "text": [
      "+---------+-------+-------------+\n",
      "| Contract|AppName|TotalDuration|\n",
      "+---------+-------+-------------+\n",
      "|HNH579912|  KPLUS|          254|\n",
      "|HUFD40665|  KPLUS|         1457|\n",
      "|HNH572635|  KPLUS|         2318|\n",
      "|HND141717|  KPLUS|         1452|\n",
      "|HNH743103|  KPLUS|          251|\n",
      "|HNH893773|  KPLUS|          924|\n",
      "|HND083642|  KPLUS|         1444|\n",
      "|DNFD74404|  KPLUS|          691|\n",
      "|DTFD21200|  KPLUS|         1436|\n",
      "|LDFD05747|  KPLUS|         1434|\n",
      "|HNH063566|  KPLUS|          687|\n",
      "|HNH866786|  KPLUS|          248|\n",
      "|NBAAA1128|  KPLUS|          247|\n",
      "|HNH960439|  KPLUS|          683|\n",
      "|HNJ035736|  KPLUS|          246|\n",
      "|NTFD93673|  KPLUS|         2288|\n",
      "|HNJ063267|  KPLUS|         2282|\n",
      "|HNH790383|  KPLUS|          906|\n",
      "|THFD12466|  KPLUS|          242|\n",
      "|HNH566080|  KPLUS|          242|\n",
      "+---------+-------+-------------+\n",
      "only showing top 20 rows\n",
      "\n"
     ]
    }
   ],
   "source": [
    "data.show()"
   ]
  },
  {
   "cell_type": "code",
   "execution_count": 9,
   "id": "99e98e70",
   "metadata": {},
   "outputs": [],
   "source": [
    "data = data.withColumn(\"Type\",\n",
    "       when((col(\"AppName\") == 'CHANNEL') | (col(\"AppName\") =='DSHD')| (col(\"AppName\") =='KPLUS')| (col(\"AppName\") =='KPlus'), \"Truyền Hình\")\n",
    "      .when((col(\"AppName\") == 'VOD') | (col(\"AppName\") =='FIMS_RES')| (col(\"AppName\") =='BHD_RES')| \n",
    "             (col(\"AppName\") =='VOD_RES')| (col(\"AppName\") =='FIMS')| (col(\"AppName\") =='BHD')| (col(\"AppName\") =='DANET'), \"Phim Truyện\")\n",
    "      .when((col(\"AppName\") == 'RELAX'), \"Giải Trí\")\n",
    "      .when((col(\"AppName\") == 'CHILD'), \"Thiếu Nhi\")\n",
    "      .when((col(\"AppName\") == 'SPORT'), \"Thể Thao\")\n",
    "      .otherwise(\"Error\"))"
   ]
  },
  {
   "cell_type": "code",
   "execution_count": 10,
   "id": "cc27b926",
   "metadata": {},
   "outputs": [
    {
     "name": "stdout",
     "output_type": "stream",
     "text": [
      "root\n",
      " |-- Contract: string (nullable = true)\n",
      " |-- AppName: string (nullable = true)\n",
      " |-- TotalDuration: long (nullable = true)\n",
      " |-- Type: string (nullable = false)\n",
      "\n"
     ]
    }
   ],
   "source": [
    "data.printSchema()"
   ]
  },
  {
   "cell_type": "code",
   "execution_count": 11,
   "id": "d31746dd",
   "metadata": {},
   "outputs": [],
   "source": [
    "data = data.drop('AppName')"
   ]
  },
  {
   "cell_type": "code",
   "execution_count": 12,
   "id": "aee88cec",
   "metadata": {},
   "outputs": [
    {
     "name": "stdout",
     "output_type": "stream",
     "text": [
      "root\n",
      " |-- Contract: string (nullable = true)\n",
      " |-- TotalDuration: long (nullable = true)\n",
      " |-- Type: string (nullable = false)\n",
      "\n"
     ]
    }
   ],
   "source": [
    "data.printSchema()"
   ]
  },
  {
   "cell_type": "code",
   "execution_count": 13,
   "id": "485175fa",
   "metadata": {},
   "outputs": [
    {
     "name": "stdout",
     "output_type": "stream",
     "text": [
      "+--------+-------------+-----------+\n",
      "|Contract|TotalDuration|       Type|\n",
      "+--------+-------------+-----------+\n",
      "|        |           52|Truyền Hình|\n",
      "|        |         3041|Truyền Hình|\n",
      "|        |           35|Truyền Hình|\n",
      "|        |          125|      Error|\n",
      "|        |           84|Truyền Hình|\n",
      "|        |         4969|Truyền Hình|\n",
      "|       0|        53318|Truyền Hình|\n",
      "|       0|        54118|Truyền Hình|\n",
      "|       0|        17828|Truyền Hình|\n",
      "|       0|        23176|Truyền Hình|\n",
      "|       0|        17871|Truyền Hình|\n",
      "|       0|        17772|Truyền Hình|\n",
      "|       0|        19302|Truyền Hình|\n",
      "|       0|        17991|Truyền Hình|\n",
      "|       0|        10349|Truyền Hình|\n",
      "|       0|        10462|Truyền Hình|\n",
      "|       0|        10453|Truyền Hình|\n",
      "|       0|        10455|Truyền Hình|\n",
      "|       0|        10321|Truyền Hình|\n",
      "|       0|        53020|Truyền Hình|\n",
      "+--------+-------------+-----------+\n",
      "only showing top 20 rows\n",
      "\n"
     ]
    }
   ],
   "source": [
    "data.orderBy('Contract').show()"
   ]
  },
  {
   "cell_type": "code",
   "execution_count": 14,
   "id": "4c9596e7",
   "metadata": {},
   "outputs": [],
   "source": [
    "data = data.filter((data.Contract !='') & (data.Contract != '0')).orderBy('Contract')"
   ]
  },
  {
   "cell_type": "code",
   "execution_count": 15,
   "id": "db5ffadf",
   "metadata": {},
   "outputs": [
    {
     "name": "stdout",
     "output_type": "stream",
     "text": [
      "+--------------+-------------+-----------+\n",
      "|      Contract|TotalDuration|       Type|\n",
      "+--------------+-------------+-----------+\n",
      "|113.182.209.48|           20|Truyền Hình|\n",
      "|113.182.209.48|           43|Truyền Hình|\n",
      "|113.182.209.48|           89|   Giải Trí|\n",
      "|113.183.15.246|         8203|Truyền Hình|\n",
      "| 113.183.60.85|         1191|Truyền Hình|\n",
      "|113.191.153.52|         9497|Truyền Hình|\n",
      "|116.107.44.221|          193|Truyền Hình|\n",
      "|116.107.44.221|           57|Phim Truyện|\n",
      "|116.107.44.221|           74|   Giải Trí|\n",
      "| 123.17.50.134|          293|Truyền Hình|\n",
      "| 123.25.79.212|         3361|Truyền Hình|\n",
      "| 123.25.79.212|         9922|Truyền Hình|\n",
      "|14.166.200.230|           14|Truyền Hình|\n",
      "|14.181.179.168|         3142|Truyền Hình|\n",
      "|14.182.110.125|           92|   Giải Trí|\n",
      "|14.182.110.125|          404|Truyền Hình|\n",
      "| 14.182.41.177|           29|Truyền Hình|\n",
      "|14.189.124.168|          147|Truyền Hình|\n",
      "|14.189.216.181|         1345|Truyền Hình|\n",
      "| 14.191.177.89|          164|Truyền Hình|\n",
      "+--------------+-------------+-----------+\n",
      "only showing top 20 rows\n",
      "\n"
     ]
    }
   ],
   "source": [
    "data.show()"
   ]
  },
  {
   "cell_type": "code",
   "execution_count": 16,
   "id": "5f42903e",
   "metadata": {},
   "outputs": [],
   "source": [
    "data = data.filter(data.Type != 'Error')"
   ]
  },
  {
   "cell_type": "code",
   "execution_count": 17,
   "id": "89e957fa",
   "metadata": {},
   "outputs": [
    {
     "data": {
      "text/plain": [
       "DataFrame[Contract: string, TotalDuration: bigint, Type: string]"
      ]
     },
     "execution_count": 17,
     "metadata": {},
     "output_type": "execute_result"
    }
   ],
   "source": [
    "data.cache()"
   ]
  },
  {
   "cell_type": "code",
   "execution_count": 18,
   "id": "e7991e24",
   "metadata": {},
   "outputs": [
    {
     "data": {
      "text/plain": [
       "47805576"
      ]
     },
     "execution_count": 18,
     "metadata": {},
     "output_type": "execute_result"
    }
   ],
   "source": [
    "data.count()"
   ]
  },
  {
   "cell_type": "code",
   "execution_count": 19,
   "id": "3bd9a2e4",
   "metadata": {},
   "outputs": [
    {
     "name": "stdout",
     "output_type": "stream",
     "text": [
      "+---------------+-----------+------------------+\n",
      "|       Contract|       Type|sum(TotalDuration)|\n",
      "+---------------+-----------+------------------+\n",
      "| 113.182.209.48|   Giải Trí|                89|\n",
      "| 113.182.209.48|Truyền Hình|                63|\n",
      "| 113.183.15.246|Truyền Hình|              8203|\n",
      "|  113.183.60.85|Truyền Hình|              1191|\n",
      "| 113.191.153.52|Truyền Hình|              9497|\n",
      "| 116.107.44.221|Phim Truyện|                57|\n",
      "| 116.107.44.221|Truyền Hình|               193|\n",
      "| 116.107.44.221|   Giải Trí|                74|\n",
      "|  123.17.50.134|Truyền Hình|               293|\n",
      "|  123.25.79.212|Truyền Hình|             13283|\n",
      "| 14.166.200.230|Truyền Hình|                14|\n",
      "| 14.181.179.168|Truyền Hình|              3142|\n",
      "| 14.182.110.125|   Giải Trí|                92|\n",
      "| 14.182.110.125|Truyền Hình|               404|\n",
      "|  14.182.41.177|Truyền Hình|                29|\n",
      "| 14.189.124.168|Truyền Hình|               147|\n",
      "| 14.189.216.181|Truyền Hình|              1345|\n",
      "|  14.191.177.89|Truyền Hình|               164|\n",
      "|171.244.225.105|Truyền Hình|               105|\n",
      "|171.244.225.105|Phim Truyện|              2834|\n",
      "+---------------+-----------+------------------+\n",
      "only showing top 20 rows\n",
      "\n"
     ]
    }
   ],
   "source": [
    "data.groupBy('Contract','Type').sum('TotalDuration').orderBy('Contract').show()"
   ]
  },
  {
   "cell_type": "code",
   "execution_count": 20,
   "id": "0efaaa0f",
   "metadata": {},
   "outputs": [],
   "source": [
    "data = data.groupBy('Contract','Type').sum('TotalDuration').orderBy('Contract')"
   ]
  },
  {
   "cell_type": "code",
   "execution_count": 21,
   "id": "425a8afa",
   "metadata": {},
   "outputs": [
    {
     "data": {
      "text/plain": [
       "2729276"
      ]
     },
     "execution_count": 21,
     "metadata": {},
     "output_type": "execute_result"
    }
   ],
   "source": [
    "data.count()"
   ]
  },
  {
   "cell_type": "code",
   "execution_count": 22,
   "id": "07942a11",
   "metadata": {},
   "outputs": [],
   "source": [
    "data = data.withColumnRenamed('sum(TotalDuration)','TotalDuration')"
   ]
  },
  {
   "cell_type": "code",
   "execution_count": 23,
   "id": "f10c5b8a",
   "metadata": {},
   "outputs": [
    {
     "name": "stdout",
     "output_type": "stream",
     "text": [
      "+---------------+-----------+-------------+\n",
      "|       Contract|       Type|TotalDuration|\n",
      "+---------------+-----------+-------------+\n",
      "| 113.182.209.48|   Giải Trí|           89|\n",
      "| 113.182.209.48|Truyền Hình|           63|\n",
      "| 113.183.15.246|Truyền Hình|         8203|\n",
      "|  113.183.60.85|Truyền Hình|         1191|\n",
      "| 113.191.153.52|Truyền Hình|         9497|\n",
      "| 116.107.44.221|   Giải Trí|           74|\n",
      "| 116.107.44.221|Phim Truyện|           57|\n",
      "| 116.107.44.221|Truyền Hình|          193|\n",
      "|  123.17.50.134|Truyền Hình|          293|\n",
      "|  123.25.79.212|Truyền Hình|        13283|\n",
      "| 14.166.200.230|Truyền Hình|           14|\n",
      "| 14.181.179.168|Truyền Hình|         3142|\n",
      "| 14.182.110.125|Truyền Hình|          404|\n",
      "| 14.182.110.125|   Giải Trí|           92|\n",
      "|  14.182.41.177|Truyền Hình|           29|\n",
      "| 14.189.124.168|Truyền Hình|          147|\n",
      "| 14.189.216.181|Truyền Hình|         1345|\n",
      "|  14.191.177.89|Truyền Hình|          164|\n",
      "|171.244.225.105|Truyền Hình|          105|\n",
      "|171.244.225.105|Phim Truyện|         2834|\n",
      "+---------------+-----------+-------------+\n",
      "only showing top 20 rows\n",
      "\n"
     ]
    }
   ],
   "source": [
    "data.show()"
   ]
  },
  {
   "cell_type": "code",
   "execution_count": 24,
   "id": "1a393998",
   "metadata": {},
   "outputs": [
    {
     "name": "stdout",
     "output_type": "stream",
     "text": [
      "+-----------+\n",
      "|       Type|\n",
      "+-----------+\n",
      "|   Thể Thao|\n",
      "|Truyền Hình|\n",
      "|  Thiếu Nhi|\n",
      "|   Giải Trí|\n",
      "|Phim Truyện|\n",
      "+-----------+\n",
      "\n"
     ]
    }
   ],
   "source": [
    "data.select('Type').distinct().show()"
   ]
  },
  {
   "cell_type": "code",
   "execution_count": 25,
   "id": "8e10efef",
   "metadata": {},
   "outputs": [],
   "source": [
    "result_pivot = data.groupBy(\"Contract\").pivot(\"Type\").sum(\"TotalDuration\")"
   ]
  },
  {
   "cell_type": "code",
   "execution_count": 26,
   "id": "667030fd",
   "metadata": {},
   "outputs": [],
   "source": [
    "result_pivot = result_pivot.cache()"
   ]
  },
  {
   "cell_type": "code",
   "execution_count": 27,
   "id": "5fb739fc",
   "metadata": {},
   "outputs": [
    {
     "name": "stdout",
     "output_type": "stream",
     "text": [
      "+---------------+--------+-----------+---------+--------+-----------+\n",
      "|       Contract|Giải Trí|Phim Truyện|Thiếu Nhi|Thể Thao|Truyền Hình|\n",
      "+---------------+--------+-----------+---------+--------+-----------+\n",
      "| 113.182.209.48|      89|       null|     null|    null|         63|\n",
      "| 113.183.15.246|    null|       null|     null|    null|       8203|\n",
      "|  113.183.60.85|    null|       null|     null|    null|       1191|\n",
      "| 113.191.153.52|    null|       null|     null|    null|       9497|\n",
      "| 116.107.44.221|      74|         57|     null|    null|        193|\n",
      "|  123.17.50.134|    null|       null|     null|    null|        293|\n",
      "|  123.25.79.212|    null|       null|     null|    null|      13283|\n",
      "| 14.166.200.230|    null|       null|     null|    null|         14|\n",
      "| 14.181.179.168|    null|       null|     null|    null|       3142|\n",
      "| 14.182.110.125|      92|       null|     null|    null|        404|\n",
      "|  14.182.41.177|    null|       null|     null|    null|         29|\n",
      "| 14.189.124.168|    null|       null|     null|    null|        147|\n",
      "| 14.189.216.181|    null|       null|     null|    null|       1345|\n",
      "|  14.191.177.89|    null|       null|     null|    null|        164|\n",
      "|171.244.225.105|    null|       2834|     null|    null|        105|\n",
      "| 222.252.254.74|    null|       null|     null|    null|        358|\n",
      "|      AGAAA0335|     143|       null|     null|    null|     232322|\n",
      "|      AGAAA0338|    null|       null|     null|    null|     278633|\n",
      "|      AGAAA0342|     204|       null|     null|    null|     117788|\n",
      "|      AGAAA0345|    null|       4501|       61|    null|     352136|\n",
      "+---------------+--------+-----------+---------+--------+-----------+\n",
      "only showing top 20 rows\n",
      "\n"
     ]
    }
   ],
   "source": [
    "result_pivot.show()"
   ]
  },
  {
   "cell_type": "code",
   "execution_count": 28,
   "id": "ef253710",
   "metadata": {},
   "outputs": [],
   "source": [
    "from pyspark.sql.window import Window\n",
    "from pyspark.sql.functions import rank\n",
    "from pyspark.sql.functions import col"
   ]
  },
  {
   "cell_type": "code",
   "execution_count": 29,
   "id": "477cec20",
   "metadata": {},
   "outputs": [],
   "source": [
    "window = Window.partitionBy(\"Contract\").orderBy(col('TotalDuration').desc())"
   ]
  },
  {
   "cell_type": "code",
   "execution_count": 30,
   "id": "3f9d7104",
   "metadata": {},
   "outputs": [],
   "source": [
    "rank_result = data.withColumn('RANK',rank().over(window))"
   ]
  },
  {
   "cell_type": "code",
   "execution_count": 31,
   "id": "e7d2901a",
   "metadata": {},
   "outputs": [
    {
     "name": "stdout",
     "output_type": "stream",
     "text": [
      "+---------+-----------+-------------+----+\n",
      "| Contract|       Type|TotalDuration|RANK|\n",
      "+---------+-----------+-------------+----+\n",
      "|AGAAA0520|Truyền Hình|       173458|   1|\n",
      "|AGAAA0520|Phim Truyện|          447|   2|\n",
      "+---------+-----------+-------------+----+\n",
      "\n"
     ]
    }
   ],
   "source": [
    "rank_result.filter(rank_result.Contract=='AGAAA0520').show()"
   ]
  },
  {
   "cell_type": "code",
   "execution_count": 32,
   "id": "7ff0e55f",
   "metadata": {},
   "outputs": [],
   "source": [
    "most_watched = rank_result.filter(rank_result.RANK == '1')"
   ]
  },
  {
   "cell_type": "code",
   "execution_count": 33,
   "id": "f719631e",
   "metadata": {},
   "outputs": [],
   "source": [
    "most_watched = most_watched.drop('TotalDuration').drop('RANK').withColumnRenamed('Type','Most_Watch')"
   ]
  },
  {
   "cell_type": "code",
   "execution_count": 34,
   "id": "90566f28",
   "metadata": {},
   "outputs": [],
   "source": [
    "habbit = result_pivot.join(most_watched,['Contract'],'inner')"
   ]
  },
  {
   "cell_type": "code",
   "execution_count": 35,
   "id": "f43c0906",
   "metadata": {},
   "outputs": [],
   "source": [
    "habbit = habbit.withColumn('Month',lit('Apr-2022'))"
   ]
  },
  {
   "cell_type": "code",
   "execution_count": 36,
   "id": "6d03127c",
   "metadata": {},
   "outputs": [
    {
     "name": "stdout",
     "output_type": "stream",
     "text": [
      "+--------------+--------+-----------+---------+--------+-----------+-----------+--------+\n",
      "|      Contract|Giải Trí|Phim Truyện|Thiếu Nhi|Thể Thao|Truyền Hình| Most_Watch|   Month|\n",
      "+--------------+--------+-----------+---------+--------+-----------+-----------+--------+\n",
      "|113.182.209.48|      89|       null|     null|    null|         63|   Giải Trí|Apr-2022|\n",
      "|14.182.110.125|      92|       null|     null|    null|        404|Truyền Hình|Apr-2022|\n",
      "|14.189.124.168|    null|       null|     null|    null|        147|Truyền Hình|Apr-2022|\n",
      "|     AGAAA0338|    null|       null|     null|    null|     278633|Truyền Hình|Apr-2022|\n",
      "|     AGAAA0342|     204|       null|     null|    null|     117788|Truyền Hình|Apr-2022|\n",
      "|     AGAAA0346|    null|       null|     null|    null|    2056249|Truyền Hình|Apr-2022|\n",
      "|     AGAAA0353|    null|       1665|     null|    null|      25982|Truyền Hình|Apr-2022|\n",
      "|     AGAAA0372|    null|       null|     null|    null|      13123|Truyền Hình|Apr-2022|\n",
      "|     AGAAA0391|     373|        129|     null|    null|     158931|Truyền Hình|Apr-2022|\n",
      "|     AGAAA0452|    null|       null|     null|    null|      29921|Truyền Hình|Apr-2022|\n",
      "|     AGAAA0504|      97|         46|     null|    null|      21313|Truyền Hình|Apr-2022|\n",
      "|     AGAAA0544|    null|       null|     null|    null|     155603|Truyền Hình|Apr-2022|\n",
      "|     AGAAA0550|    null|       null|     null|    null|    2215875|Truyền Hình|Apr-2022|\n",
      "|     AGAAA0555|    null|       null|     null|    null|     348001|Truyền Hình|Apr-2022|\n",
      "|     AGAAA0576|    null|        677|     null|    null|     759375|Truyền Hình|Apr-2022|\n",
      "|     AGAAA0593|    null|       null|     null|    null|       1038|Truyền Hình|Apr-2022|\n",
      "|     AGAAA0608|    null|       null|     null|    null|       2129|Truyền Hình|Apr-2022|\n",
      "|     AGAAA0613|      26|       null|     null|    null|       9377|Truyền Hình|Apr-2022|\n",
      "|     AGAAA0638|    null|       null|     null|    null|     227016|Truyền Hình|Apr-2022|\n",
      "|     AGAAA0663|    null|       null|     null|    null|      89001|Truyền Hình|Apr-2022|\n",
      "+--------------+--------+-----------+---------+--------+-----------+-----------+--------+\n",
      "only showing top 20 rows\n",
      "\n"
     ]
    }
   ],
   "source": [
    "habbit.show()"
   ]
  },
  {
   "cell_type": "markdown",
   "id": "7d4ae6e7",
   "metadata": {},
   "source": [
    "Dựa vào kết quả trên biết được thể loại chương trình ưa chuộng của từng người dùng"
   ]
  },
  {
   "cell_type": "code",
   "execution_count": null,
   "id": "6df43ef5",
   "metadata": {},
   "outputs": [],
   "source": []
  }
 ],
 "metadata": {
  "kernelspec": {
   "display_name": "Python 3 (ipykernel)",
   "language": "python",
   "name": "python3"
  },
  "language_info": {
   "codemirror_mode": {
    "name": "ipython",
    "version": 3
   },
   "file_extension": ".py",
   "mimetype": "text/x-python",
   "name": "python",
   "nbconvert_exporter": "python",
   "pygments_lexer": "ipython3",
   "version": "3.9.12"
  }
 },
 "nbformat": 4,
 "nbformat_minor": 5
}
